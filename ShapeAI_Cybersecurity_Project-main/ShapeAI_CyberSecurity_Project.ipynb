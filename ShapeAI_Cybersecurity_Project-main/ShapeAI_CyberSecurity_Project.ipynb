{
  "nbformat": 4,
  "nbformat_minor": 0,
  "metadata": {
    "colab": {
      "name": "ShapeAI_CyberSecurity_Project.ipynb",
      "provenance": [],
      "collapsed_sections": []
    },
    "kernelspec": {
      "name": "python3",
      "display_name": "Python 3"
    },
    "language_info": {
      "name": "python"
    }
  },
  "cells": [
    {
      "cell_type": "markdown",
      "metadata": {
        "id": "wxVgaE8zVYjg"
      },
      "source": [
        "Requests module of python allows you to make an http/https requests to the website / server.\n"
      ]
    },
    {
      "cell_type": "code",
      "metadata": {
        "id": "QvVn_iQWPHHo"
      },
      "source": [
        "import requests\n",
        "from datetime import datetime"
      ],
      "execution_count": 6,
      "outputs": []
    },
    {
      "cell_type": "code",
      "metadata": {
        "id": "-XqbHW5yXV5W"
      },
      "source": [
        "api_key = \"4a9ad3dd4bdf6af3e7a1177ac548c238\""
      ],
      "execution_count": 7,
      "outputs": []
    },
    {
      "cell_type": "code",
      "metadata": {
        "colab": {
          "base_uri": "https://localhost:8080/"
        },
        "id": "8EZND5ULXe3r",
        "outputId": "3be60f0e-b946-4ee1-ae97-7069a577d1a2"
      },
      "source": [
        "location = input(\"Enter the city name: \")"
      ],
      "execution_count": 8,
      "outputs": [
        {
          "output_type": "stream",
          "text": [
            "Enter the city name: mumbai\n"
          ],
          "name": "stdout"
        }
      ]
    },
    {
      "cell_type": "code",
      "metadata": {
        "id": "oXRDLZFUVOtU"
      },
      "source": [
        "complete_api_link = f\"https://api.openweathermap.org/data/2.5/weather?q={location}&appid={api_key}\"\n",
        "api_link = requests.get(complete_api_link)\n",
        "api_data = api_link.json()"
      ],
      "execution_count": 10,
      "outputs": []
    },
    {
      "cell_type": "code",
      "metadata": {
        "colab": {
          "base_uri": "https://localhost:8080/"
        },
        "id": "IrWfUUlSWAJf",
        "outputId": "87c7f053-94f8-4b1b-bc45-259341bc2ff6"
      },
      "source": [
        "print(dir(api_link))\n",
        "# this dir() gives the list of methods available with the requests module"
      ],
      "execution_count": 12,
      "outputs": [
        {
          "output_type": "stream",
          "text": [
            "['__attrs__', '__bool__', '__class__', '__delattr__', '__dict__', '__dir__', '__doc__', '__enter__', '__eq__', '__exit__', '__format__', '__ge__', '__getattribute__', '__getstate__', '__gt__', '__hash__', '__init__', '__init_subclass__', '__iter__', '__le__', '__lt__', '__module__', '__ne__', '__new__', '__nonzero__', '__reduce__', '__reduce_ex__', '__repr__', '__setattr__', '__setstate__', '__sizeof__', '__str__', '__subclasshook__', '__weakref__', '_content', '_content_consumed', '_next', 'apparent_encoding', 'close', 'connection', 'content', 'cookies', 'elapsed', 'encoding', 'headers', 'history', 'is_permanent_redirect', 'is_redirect', 'iter_content', 'iter_lines', 'json', 'links', 'next', 'ok', 'raise_for_status', 'raw', 'reason', 'request', 'status_code', 'text', 'url']\n"
          ],
          "name": "stdout"
        }
      ]
    },
    {
      "cell_type": "code",
      "metadata": {
        "id": "a69-_UUWWJ9z"
      },
      "source": [
        "# creating temporary variable to store data\n",
        "temperature_city = ((api_data['main']['temp']) - 273.15)\n",
        "weather_description = api_data['weather'][0]['description']\n",
        "humidity = api_data['main']['humidity']\n",
        "wind_speed = api_data['wind']['speed']\n",
        "date_time = datetime.now().strftime(\"%d %b %Y | %I:%M:%S %p\")"
      ],
      "execution_count": 18,
      "outputs": []
    },
    {
      "cell_type": "code",
      "metadata": {
        "colab": {
          "base_uri": "https://localhost:8080/"
        },
        "id": "LFes2BY2Zh2f",
        "outputId": "e8ecfc90-9cf1-4be8-ea54-32015bb7dbab"
      },
      "source": [
        "print(f\"-----------------------------Weather data of : {location}-----------------------------\")\n",
        "print(f\"Weather statistics for - {location.upper()} || {date_time}\")\n",
        "print(f\"--------------------------------------------------------------------------------------\")"
      ],
      "execution_count": 19,
      "outputs": [
        {
          "output_type": "stream",
          "text": [
            "-----------------------------Weather data of : mumbai-----------------------------\n",
            "Weather statistics for - MUMBAI || 23 Jun 2021 | 03:07:26 PM\n",
            "--------------------------------------------------------------------------------------\n"
          ],
          "name": "stdout"
        }
      ]
    },
    {
      "cell_type": "code",
      "metadata": {
        "colab": {
          "base_uri": "https://localhost:8080/"
        },
        "id": "uIDmThxaaHJ0",
        "outputId": "e29cceed-5bf0-4dd9-83fd-79e1dc3d52db"
      },
      "source": [
        "print(f\"Current temperature is : {(temperature_city):.2f} deg C\")  # .2f - upto two decimal points\n",
        "print(f\"Current weather description : {weather_description}\")\n",
        "print(f\"Current Humidity : {humidity} %\")\n",
        "print(f\"Current Wind Speed : {wind_speed} kmph\")"
      ],
      "execution_count": 25,
      "outputs": [
        {
          "output_type": "stream",
          "text": [
            "Current temperature is : 29.99 deg C\n",
            "Current weather description : haze\n",
            "Current Humidity : 79 %\n",
            "Current Wind Speed : 4.63 kmph\n"
          ],
          "name": "stdout"
        }
      ]
    },
    {
      "cell_type": "code",
      "metadata": {
        "id": "6EbTMYC6dfgg"
      },
      "source": [
        "f = open(f\"weather_data_of_{location}.txt\", \"w\")\n",
        "f.write(f\"-----------------------------Weather data of : {location}-----------------------------\\n\")\n",
        "f.write(f\"Weather statistics for - {location.upper()} || {date_time} \\n\")\n",
        "f.write(f\"--------------------------------------------------------------------------------------\\n\")\n",
        "f.write(\"\\n\\n\\n\")\n",
        "\n",
        "f.write(f\"Current temperature is : {(temperature_city):.2f} deg C \\n\")  \n",
        "f.write(f\"Current weather description : {weather_description} \\n\")\n",
        "f.write(f\"Current Humidity : {humidity} % \\n\")\n",
        "f.write(f\"Current Wind Speed : {wind_speed} kmph \\n\")\n",
        "f.write(\"\\n\\n\\n\")\n",
        "\n",
        "f.close()"
      ],
      "execution_count": 29,
      "outputs": []
    }
  ]
}